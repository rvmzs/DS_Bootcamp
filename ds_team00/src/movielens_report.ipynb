{
 "cells": [
  {
   "cell_type": "markdown",
   "metadata": {},
   "source": [
    "# Предисловие"
   ]
  },
  {
   "cell_type": "markdown",
   "metadata": {},
   "source": [
    "В маленьком, почти забытом городе, скрытом среди зелёных холмов и туманных лесов, располагался старинный киноархив. Его стены хранили не только плёнки и постеры, но и много историй — тех, что зрители давно забыли, и тех, что продолжали жить среди деревянных полок с пожелтевшими коробками. Архивом управлял Артур — старый киноман, чьи глаза помнили не только каждый кадр из всех фильмов, что когда-либо выходили, но и редкие моменты, когда в их сюжетах скрывались настоящие чудеса.\n",
    "\n",
    "Артур был как библиотека на ногах, только вместо книг — фильмы. Он мог часами рассказывать о незаслуженно забытых картинах, о режиссёрах, чьи имена стерлись из истории, о том, как свет в кинозале менялся, когда на экране появлялся новый талант. Но, несмотря на свою страсть, у него был один большой секрет: иногда ему хотелось забыть о фильмах, которые не должны были быть. Они появлялись в списках случайных номеров, и их существование оставалось загадкой. Но в этот день всё изменилось.\n",
    "\n",
    "Макс, молодой помощник Артура, только что вернулся из командировки. Он был увлечённым студентом, который, по словам Артура, «еще не знал, что такое настоящий кинематограф». Открыв одну из старых коробок с фильмами, Макс наткнулся на странный список — это были фильмы, которые никогда не должны были попасть в архив. В их названиях не было ничего знакомого, а кодировка этих фильмов была такой, что Артур, даже с его обширными знаниями, не мог бы с уверенностью сказать, что это за фильмы.\n",
    "\n",
    "— Артур, посмотри, что я нашёл! — Макс не смог сдержать эмоций, положив перед старым киноманом коробку с загадочными названиями. — Это список фильмов, которых не должно было быть.\n",
    "\n",
    "Артур вздохнул, откинулся в кресле и прикрыл глаза:\n",
    "\n",
    "— Это точно не из моего архива... Но давай-ка попробуем понять, что это за фильмы. Для этого нам нужно разобраться с данными, которые их окружают. Точно знаю, что с этим можно что-то сделать."
   ]
  },
  {
   "cell_type": "markdown",
   "metadata": {},
   "source": [
    "# Глава 1: Затерянные фильмы"
   ]
  },
  {
   "cell_type": "markdown",
   "metadata": {},
   "source": [
    "— Артур, смотри! Эти фильмы… Я нигде не могу найти их в интернете. Может, это какие-то забытые шедевры?\n",
    "\n",
    "— Или просто выдумка, — отозвался старик, но в его глазах появилось любопытство.\n",
    "\n",
    "— Давай проверим в базе MovieLens! — предложил Макс."
   ]
  },
  {
   "cell_type": "markdown",
   "metadata": {},
   "source": [
    "#### Исследуем данные"
   ]
  },
  {
   "cell_type": "code",
   "execution_count": null,
   "metadata": {},
   "outputs": [
    {
     "name": "stdout",
     "output_type": "stream",
     "text": [
      "2.72 ms ± 43.1 μs per loop (mean ± std. dev. of 7 runs, 100 loops each)\n",
      "1.23 ms ± 3.91 μs per loop (mean ± std. dev. of 7 runs, 1,000 loops each)\n",
      "3.26 ms ± 22.5 μs per loop (mean ± std. dev. of 7 runs, 100 loops each)\n"
     ]
    }
   ],
   "source": [
    "from movielens_analysis import Movies, Links, Ratings, Tags  \n",
    "\n",
    "%timeit movies = Movies('ml-latest-small/movies.csv')\n",
    "%timeit ratings = Ratings('ml-latest-small/ratings.csv')\n",
    "%timeit links = Links('ml-latest-small/links.csv')\n",
    "%timeit tags = Tags('ml-latest-small/tags.csv')\n",
    "\n",
    "movies = Movies('ml-latest-small/movies.csv')\n",
    "ratings = Ratings('ml-latest-small/ratings.csv')\n",
    "links = Links('ml-latest-small/links.csv')\n",
    "tags = Tags('ml-latest-small/tags.csv')"
   ]
  },
  {
   "cell_type": "markdown",
   "metadata": {},
   "source": [
    "# Глава 2: Следы в истории"
   ]
  },
  {
   "cell_type": "markdown",
   "metadata": {},
   "source": [
    "Макс загрузил данные и стал изучать, когда были выпущены фильмы.\n",
    "\n",
    "— Давай посмотрим, в какие годы выходило больше всего фильмов, — предложил он."
   ]
  },
  {
   "cell_type": "code",
   "execution_count": 2,
   "metadata": {},
   "outputs": [
    {
     "name": "stdout",
     "output_type": "stream",
     "text": [
      "692 μs ± 7.71 μs per loop (mean ± std. dev. of 7 runs, 1,000 loops each)\n",
      "release_distribution\n"
     ]
    },
    {
     "data": {
      "text/plain": [
       "OrderedDict([(1995, 224),\n",
       "             (1994, 184),\n",
       "             (1996, 181),\n",
       "             (1993, 101),\n",
       "             (1992, 23),\n",
       "             (1990, 15),\n",
       "             (1991, 15),\n",
       "             (1989, 14),\n",
       "             (1986, 9),\n",
       "             (1982, 8),\n",
       "             (1940, 8),\n",
       "             (1957, 8),\n",
       "             (1987, 8),\n",
       "             (1980, 8),\n",
       "             (1981, 7),\n",
       "             (1988, 7),\n",
       "             (1979, 7),\n",
       "             (1955, 6),\n",
       "             (1959, 6),\n",
       "             (1968, 6),\n",
       "             (1997, 6),\n",
       "             (1939, 6),\n",
       "             (1985, 6),\n",
       "             (1967, 5),\n",
       "             (1965, 5),\n",
       "             (1951, 5),\n",
       "             (1958, 5),\n",
       "             (1944, 5),\n",
       "             (1941, 5),\n",
       "             (1975, 5),\n",
       "             (1971, 5),\n",
       "             (1984, 5),\n",
       "             (1964, 4),\n",
       "             (1973, 4),\n",
       "             (1954, 4),\n",
       "             (1934, 4),\n",
       "             (1960, 4),\n",
       "             (1963, 4),\n",
       "             (1950, 4),\n",
       "             (1974, 4),\n",
       "             (1983, 4),\n",
       "             (1977, 3),\n",
       "             (1937, 3),\n",
       "             (1972, 3),\n",
       "             (1952, 3),\n",
       "             (1961, 3),\n",
       "             (1953, 3),\n",
       "             (1946, 3),\n",
       "             (1938, 3),\n",
       "             (1956, 3),\n",
       "             (1962, 3),\n",
       "             (1976, 2),\n",
       "             (1969, 2),\n",
       "             (1970, 2),\n",
       "             (1942, 2),\n",
       "             (1945, 2),\n",
       "             (1947, 2),\n",
       "             (1935, 2),\n",
       "             (1936, 2),\n",
       "             (1949, 2),\n",
       "             (1978, 2),\n",
       "             (1943, 1),\n",
       "             (1932, 1),\n",
       "             (1966, 1),\n",
       "             (1948, 1),\n",
       "             (1933, 1),\n",
       "             (1931, 1)])"
      ]
     },
     "metadata": {},
     "output_type": "display_data"
    }
   ],
   "source": [
    "%timeit release_distribution = movies.dist_by_release()\n",
    "release_distribution = movies.dist_by_release()\n",
    "print(\"release_distribution\")\n",
    "display(release_distribution)\n"
   ]
  },
  {
   "cell_type": "markdown",
   "metadata": {},
   "source": [
    "— Интересно, пик пришёлся на 90-е! Но что насчёт жанров? — задумался Артур."
   ]
  },
  {
   "cell_type": "code",
   "execution_count": 3,
   "metadata": {},
   "outputs": [
    {
     "name": "stdout",
     "output_type": "stream",
     "text": [
      "556 μs ± 3.61 μs per loop (mean ± std. dev. of 7 runs, 1,000 loops each)\n",
      "genres\n"
     ]
    },
    {
     "data": {
      "text/plain": [
       "OrderedDict([('Drama', 507),\n",
       "             ('Comedy', 365),\n",
       "             ('Romance', 208),\n",
       "             ('Thriller', 179),\n",
       "             ('Action', 158),\n",
       "             ('Adventure', 126),\n",
       "             ('Crime', 122),\n",
       "             ('Children', 100),\n",
       "             ('Fantasy', 69),\n",
       "             ('Sci-Fi', 69),\n",
       "             ('Mystery', 58),\n",
       "             ('Musical', 53),\n",
       "             ('Horror', 51),\n",
       "             ('War', 48),\n",
       "             ('Animation', 37),\n",
       "             ('Documentary', 25),\n",
       "             ('Western', 23),\n",
       "             ('Film-Noir', 18),\n",
       "             ('IMAX', 3)])"
      ]
     },
     "metadata": {},
     "output_type": "display_data"
    }
   ],
   "source": [
    "%timeit genre_distribution = movies.dist_by_genres()\n",
    "genres = movies.dist_by_genres()\n",
    "print(\"genres\")\n",
    "display(genres)"
   ]
  },
  {
   "cell_type": "markdown",
   "metadata": {},
   "source": [
    "— Какие фильмы включают больше всего жанров? — спросил Макс."
   ]
  },
  {
   "cell_type": "code",
   "execution_count": 4,
   "metadata": {},
   "outputs": [
    {
     "name": "stdout",
     "output_type": "stream",
     "text": [
      "442 μs ± 1.77 μs per loop (mean ± std. dev. of 7 runs, 1,000 loops each)\n",
      "Фильмы с наибольшим количеством жанров\n"
     ]
    },
    {
     "data": {
      "text/plain": [
       "OrderedDict([('Strange Days (1995)', 6),\n",
       "             ('Lion King, The (1994)', 6),\n",
       "             ('Getaway, The (1994)', 6),\n",
       "             ('Super Mario Bros. (1993)', 6),\n",
       "             ('Beauty and the Beast (1991)', 6)])"
      ]
     },
     "metadata": {},
     "output_type": "display_data"
    }
   ],
   "source": [
    "%timeit top_movies_by_genres = movies.most_genres(5)\n",
    "top_movies_by_genres = movies.most_genres(5)\n",
    "print(\"Фильмы с наибольшим количеством жанров\")\n",
    "display(top_movies_by_genres)"
   ]
  },
  {
   "cell_type": "markdown",
   "metadata": {},
   "source": [
    "# Глава 3: Рейтинг как улика"
   ]
  },
  {
   "cell_type": "markdown",
   "metadata": {},
   "source": [
    "Погружаясь глубже, друзья решили изучить, какие фильмы пользователи оценивали чаще всего."
   ]
  },
  {
   "cell_type": "code",
   "execution_count": null,
   "metadata": {},
   "outputs": [
    {
     "name": "stdout",
     "output_type": "stream",
     "text": [
      "266 μs ± 1.12 μs per loop (mean ± std. dev. of 7 runs, 1,000 loops each)\n",
      "Сортировка по годам\n"
     ]
    },
    {
     "data": {
      "text/plain": [
       "OrderedDict([(1996, 282),\n",
       "             (1999, 66),\n",
       "             (2000, 221),\n",
       "             (2001, 52),\n",
       "             (2005, 91),\n",
       "             (2006, 3),\n",
       "             (2007, 1),\n",
       "             (2011, 33),\n",
       "             (2015, 22)])"
      ]
     },
     "metadata": {},
     "output_type": "display_data"
    }
   ],
   "source": [
    "ratings_analysis = Ratings.Movies(ratings.data, 'ml-latest-small/movies.csv')\n",
    "\n",
    "%timeit ratings_by_year = ratings_analysis.dist_by_year()\n",
    "ratings_by_year = ratings_analysis.dist_by_year()\n",
    "print(\"Сортировка по годам\")\n",
    "display(ratings_by_year)\n"
   ]
  },
  {
   "cell_type": "markdown",
   "metadata": {},
   "source": [
    "— Ух ты, какие фильмы получили больше всего оценок? — спросил Макс."
   ]
  },
  {
   "cell_type": "code",
   "execution_count": null,
   "metadata": {},
   "outputs": [
    {
     "name": "stdout",
     "output_type": "stream",
     "text": [
      "120 μs ± 264 ns per loop (mean ± std. dev. of 7 runs, 10,000 loops each)\n",
      "Фильмы с наибольшим количеством оценок\n"
     ]
    },
    {
     "data": {
      "text/plain": [
       "{'Pulp Fiction (1994)': 4,\n",
       " \"Schindler's List (1993)\": 4,\n",
       " 'Batman (1989)': 4,\n",
       " 'Fargo (1996)': 4,\n",
       " 'Aladdin (1992)': 4}"
      ]
     },
     "metadata": {},
     "output_type": "display_data"
    }
   ],
   "source": [
    "%timeit top_rated_movies = ratings_analysis.top_by_num_of_ratings(5)\n",
    "top_rated_movies = ratings_analysis.top_by_num_of_ratings(5)\n",
    "print(\"Фильмы с наибольшим количеством оценок\")\n",
    "display(top_rated_movies)"
   ]
  },
  {
   "cell_type": "markdown",
   "metadata": {},
   "source": [
    "— А теперь глянем на самые спорные фильмы, — предложил Артур."
   ]
  },
  {
   "cell_type": "code",
   "execution_count": null,
   "metadata": {},
   "outputs": [
    {
     "name": "stdout",
     "output_type": "stream",
     "text": [
      "273 μs ± 6.32 μs per loop (mean ± std. dev. of 7 runs, 1,000 loops each)\n",
      "Фильмы с самым разным мнением зрителей\n"
     ]
    },
    {
     "data": {
      "text/plain": [
       "{'Bambi (1942)': 10.125,\n",
       " 'My Fair Lady (1964)': 10.125,\n",
       " 'Good Will Hunting (1997)': 6.125,\n",
       " 'Courage Under Fire (1996)': 6.125,\n",
       " \"Schindler's List (1993)\": 4.5625}"
      ]
     },
     "metadata": {},
     "output_type": "display_data"
    }
   ],
   "source": [
    "%timeit top_controversial_movies = ratings_analysis.top_controversial(5)\n",
    "top_controversial_movies = ratings_analysis.top_controversial(5)\n",
    "print(\"Фильмы с самым разным мнением зрителей\")\n",
    "display(top_controversial_movies)"
   ]
  },
  {
   "cell_type": "markdown",
   "metadata": {},
   "source": [
    "— Давай посмотрим, как эти фильмы оценивают, — предложил Макс."
   ]
  },
  {
   "cell_type": "code",
   "execution_count": null,
   "metadata": {},
   "outputs": [
    {
     "name": "stdout",
     "output_type": "stream",
     "text": [
      "73.1 μs ± 300 ns per loop (mean ± std. dev. of 7 runs, 10,000 loops each)\n",
      "Распределение по рейтингам\n"
     ]
    },
    {
     "data": {
      "text/plain": [
       "OrderedDict([(0.5, 21),\n",
       "             (1.0, 29),\n",
       "             (1.5, 8),\n",
       "             (2.0, 48),\n",
       "             (2.5, 5),\n",
       "             (3.0, 200),\n",
       "             (3.5, 13),\n",
       "             (4.0, 225),\n",
       "             (4.5, 22),\n",
       "             (5.0, 200)])"
      ]
     },
     "metadata": {},
     "output_type": "display_data"
    }
   ],
   "source": [
    "\n",
    "ratings_analysis = Ratings('ml-latest-small/ratings.csv')\n",
    "movies_analysis = Ratings.Movies(ratings_analysis.data, 'ml-latest-small/movies.csv')\n",
    "\n",
    "%timeit ratings_by_value = movies_analysis.dist_by_rating()\n",
    "ratings_by_value = movies_analysis.dist_by_rating()\n",
    "\n",
    "print(\"Распределение по рейтингам\")\n",
    "display(ratings_by_value)\n"
   ]
  },
  {
   "cell_type": "markdown",
   "metadata": {},
   "source": [
    "— Артур, давай посмотрим, какие фильмы по-настоящему самые лучшие, — предложил Макс, крутя колесо мыши.\n",
    "\n",
    "— А как будем смотреть? Средний рейтинг или медиану? — поинтересовался старик.\n",
    "\n",
    "— Давай оба варианта проверим, интересно, как они отличаются, — ответил Макс, с любопытством вглядываясь в экран.\n",
    "\n",
    "— Хорошая идея, — кивнул Артур, — посмотрим, что нам покажет статистика."
   ]
  },
  {
   "cell_type": "code",
   "execution_count": null,
   "metadata": {},
   "outputs": [
    {
     "name": "stdout",
     "output_type": "stream",
     "text": [
      "547 μs ± 6.79 μs per loop (mean ± std. dev. of 7 runs, 1,000 loops each)\n",
      "Топ фильмов по среднему рейтингу\n"
     ]
    },
    {
     "data": {
      "text/plain": [
       "OrderedDict([('Bottle Rocket (1996)', 5.0),\n",
       "             ('Canadian Bacon (1995)', 5.0),\n",
       "             ('Star Wars: Episode IV - A New Hope (1977)', 5.0),\n",
       "             ('James and the Giant Peach (1996)', 5.0),\n",
       "             ('Citizen Kane (1941)', 5.0)])"
      ]
     },
     "metadata": {},
     "output_type": "display_data"
    },
    {
     "name": "stdout",
     "output_type": "stream",
     "text": [
      "570 μs ± 951 ns per loop (mean ± std. dev. of 7 runs, 1,000 loops each)\n",
      "Топ фильмов по медианному рейтингу\n"
     ]
    },
    {
     "data": {
      "text/plain": [
       "OrderedDict([('Bottle Rocket (1996)', 5.0),\n",
       "             ('Canadian Bacon (1995)', 5.0),\n",
       "             ('Star Wars: Episode IV - A New Hope (1977)', 5.0),\n",
       "             ('Tommy Boy (1995)', 5.0),\n",
       "             ('Forrest Gump (1994)', 5.0)])"
      ]
     },
     "metadata": {},
     "output_type": "display_data"
    }
   ],
   "source": [
    "\n",
    "ratings_analysis = Ratings('ml-latest-small/ratings.csv')\n",
    "movies_analysis = Ratings.Movies(ratings_analysis.data, 'ml-latest-small/movies.csv')\n",
    "\n",
    "\n",
    "%timeit top_rated_movies = movies_analysis.top_by_ratings(5, 'average')\n",
    "top_rated_movies = movies_analysis.top_by_ratings(5, 'average')\n",
    "print(\"Топ фильмов по среднему рейтингу\")\n",
    "display(top_rated_movies)\n",
    "\n",
    "\n",
    "%timeit top_rated_movies_median = movies_analysis.top_by_ratings(5, 'median')\n",
    "top_rated_movies_median = movies_analysis.top_by_ratings(5, 'median')\n",
    "print(\"Топ фильмов по медианному рейтингу\")\n",
    "display(top_rated_movies_median)\n"
   ]
  },
  {
   "cell_type": "markdown",
   "metadata": {},
   "source": [
    "# Глава 4: След ведёт в Голливуд"
   ]
  },
  {
   "cell_type": "markdown",
   "metadata": {},
   "source": [
    "— Может, посмотрим, какие режиссёры сняли больше всего фильмов? — предложил Макс."
   ]
  },
  {
   "cell_type": "code",
   "execution_count": null,
   "metadata": {},
   "outputs": [],
   "source": [
    "%timeit top_directors = links.top_directors(5)\n",
    "top_directors = links.top_directors(5)\n",
    "print(\"Самые продуктивные режиссёры\")\n",
    "display(top_directors)"
   ]
  },
  {
   "cell_type": "markdown",
   "metadata": {},
   "source": [
    "— Интересно, сколько стоили самые дорогие фильмы? — спросил Артур."
   ]
  },
  {
   "cell_type": "code",
   "execution_count": null,
   "metadata": {},
   "outputs": [],
   "source": [
    "%timeit most_expensive_movies = links.most_expensive(5)\n",
    "most_expensive_movies = links.most_expensive(5)\n",
    "print(\"Самые дорогие фильмы\")\n",
    "display(most_expensive_movies)"
   ]
  },
  {
   "cell_type": "markdown",
   "metadata": {},
   "source": [
    "— А какие из них были самыми прибыльными? — добавил Макс."
   ]
  },
  {
   "cell_type": "code",
   "execution_count": null,
   "metadata": {},
   "outputs": [],
   "source": [
    "%timeit most_profitable_movies = links.most_profitable(5)\n",
    "most_profitable_movies = links.most_profitable(5)\n",
    "print(\"Самые прибыльные фильмы\")\n",
    "display(most_profitable_movies)"
   ]
  },
  {
   "cell_type": "markdown",
   "metadata": {},
   "source": [
    "— А что насчёт тегов? Какие самые популярные? — спросил Макс."
   ]
  },
  {
   "cell_type": "code",
   "execution_count": 27,
   "metadata": {},
   "outputs": [
    {
     "name": "stdout",
     "output_type": "stream",
     "text": [
      "139 μs ± 454 ns per loop (mean ± std. dev. of 7 runs, 10,000 loops each)\n",
      "Самые популярные теги\n"
     ]
    },
    {
     "data": {
      "text/plain": [
       "{'funny': 15,\n",
       " 'sci-fi': 14,\n",
       " 'twist ending': 12,\n",
       " 'dark comedy': 12,\n",
       " 'atmospheric': 10}"
      ]
     },
     "metadata": {},
     "output_type": "display_data"
    }
   ],
   "source": [
    "%timeit popular_tags = tags.most_popular(5)\n",
    "popular_tags = tags.most_popular(5)\n",
    "print(\"Самые популярные теги\")\n",
    "display(popular_tags)"
   ]
  },
  {
   "cell_type": "markdown",
   "metadata": {},
   "source": [
    "— О, а давай про научную фантастику? — засмеялся Макс"
   ]
  },
  {
   "cell_type": "code",
   "execution_count": 28,
   "metadata": {},
   "outputs": [
    {
     "name": "stdout",
     "output_type": "stream",
     "text": [
      "84.9 μs ± 1.46 μs per loop (mean ± std. dev. of 7 runs, 10,000 loops each)\n",
      "Фильмы с тегом 'sci-fi'\n"
     ]
    },
    {
     "data": {
      "text/plain": [
       "['Sci-Fi', 'classic sci-fi', 'sci-fi']"
      ]
     },
     "metadata": {},
     "output_type": "display_data"
    }
   ],
   "source": [
    "word = \"sci-fi\"\n",
    "%timeit tags_with_word = tags.tags_with(word)\n",
    "tags_with_word = tags.tags_with(word)\n",
    "print(\"Фильмы с тегом 'sci-fi'\")\n",
    "display(tags_with_word)"
   ]
  },
  {
   "cell_type": "markdown",
   "metadata": {},
   "source": [
    "— Макс, а какие теги у нас самые многословные? — спросил Артур, поднимая бровь.\n",
    "\n",
    "— Давай проверим, — ответил Макс, не отрываясь от экрана. — Интересно, какие теги будут лидировать по количеству слов."
   ]
  },
  {
   "cell_type": "code",
   "execution_count": null,
   "metadata": {},
   "outputs": [
    {
     "name": "stdout",
     "output_type": "stream",
     "text": [
      "148 μs ± 585 ns per loop (mean ± std. dev. of 7 runs, 10,000 loops each)\n",
      "Теги с наибольшим количеством слов\n"
     ]
    },
    {
     "data": {
      "text/plain": [
       "OrderedDict([('Something for everyone in this one... saw it without and plan on seeing it with kids!',\n",
       "              16),\n",
       "             ('the catholic church is the most corrupt organization in history',\n",
       "              10),\n",
       "             ('Oscar (Best Music - Original Score)', 6),\n",
       "             ('Everything you want is here', 5),\n",
       "             ('based on a true story', 5)])"
      ]
     },
     "metadata": {},
     "output_type": "display_data"
    }
   ],
   "source": [
    "\n",
    "tags_analysis = Tags('ml-latest-small/tags.csv')\n",
    "\n",
    "%timeit most_words_tags = tags_analysis.most_words(5)\n",
    "most_words_tags = tags_analysis.most_words(5)\n",
    "\n",
    "print(\"Теги с наибольшим количеством слов\")\n",
    "display(most_words_tags)"
   ]
  },
  {
   "cell_type": "markdown",
   "metadata": {},
   "source": [
    "— Артур, а какие теги самые длинные? — спросил Макс, внимательно следя за результатами.\n",
    "\n",
    "— Хороший вопрос, — ответил Артур, кивая. — Давай посмотрим, какие теги займут верхние строчки по длине."
   ]
  },
  {
   "cell_type": "code",
   "execution_count": null,
   "metadata": {},
   "outputs": [
    {
     "name": "stdout",
     "output_type": "stream",
     "text": [
      "70.4 μs ± 472 ns per loop (mean ± std. dev. of 7 runs, 10,000 loops each)\n",
      "Самые длинные теги\n"
     ]
    },
    {
     "data": {
      "text/plain": [
       "['Something for everyone in this one... saw it without and plan on seeing it with kids!',\n",
       " 'the catholic church is the most corrupt organization in history',\n",
       " 'audience intelligence underestimated',\n",
       " 'Oscar (Best Music - Original Score)',\n",
       " 'assassin-in-training (scene)']"
      ]
     },
     "metadata": {},
     "output_type": "display_data"
    }
   ],
   "source": [
    "\n",
    "%timeit longest_tags = tags_analysis.longest(5)\n",
    "longest_tags = tags_analysis.longest(5)\n",
    "\n",
    "print(\"Самые длинные теги\")\n",
    "display(longest_tags)"
   ]
  },
  {
   "cell_type": "markdown",
   "metadata": {},
   "source": [
    "— Знаешь, Макс, будет интересно узнать, какие теги одновременно и длинные, и с множеством слов, — сказал Артур, задумавшись.\n",
    "\n",
    "— О, да! Это будет забавно, — ответил Макс, нажимая клавиши. — Посмотрим, что нам выдаст база."
   ]
  },
  {
   "cell_type": "code",
   "execution_count": null,
   "metadata": {},
   "outputs": [
    {
     "name": "stdout",
     "output_type": "stream",
     "text": [
      "250 μs ± 6.52 μs per loop (mean ± std. dev. of 7 runs, 1,000 loops each)\n",
      "Теги с наибольшим количеством слов и длиной\n"
     ]
    },
    {
     "data": {
      "text/plain": [
       "['Oscar (Best Music - Original Score)',\n",
       " 'Something for everyone in this one... saw it without and plan on seeing it with kids!',\n",
       " 'the catholic church is the most corrupt organization in history']"
      ]
     },
     "metadata": {},
     "output_type": "display_data"
    }
   ],
   "source": [
    "\n",
    "%timeit most_words_and_longest_tags = tags_analysis.most_words_and_longest(5)\n",
    "most_words_and_longest_tags = tags_analysis.most_words_and_longest(5)\n",
    "\n",
    "print(\"Теги с наибольшим количеством слов и длиной\")\n",
    "display(most_words_and_longest_tags)"
   ]
  },
  {
   "cell_type": "markdown",
   "metadata": {},
   "source": [
    "# Глава 5: Разгадка"
   ]
  },
  {
   "cell_type": "markdown",
   "metadata": {},
   "source": [
    "Макс и Артур стояли в темном архиве, погруженные в мысли о том, что они только что обнаружили. Эти фильмы — это не просто кадры, не просто старые записи. Это была часть великой истории, которую кому-то пришлось скрыть. Но теперь, благодаря их усилиям, эта история была восстановлена, и они могли раскрыть миру то, что было скрыто.\n",
    "\n",
    "\"Знаешь, Макс,\" — сказал Артур, — \"Иногда самые важные истории не те, которые видны сразу. Иногда их нужно найти, вытащить из тени и дать им возможность светить в нашем мире. И кто знает, может быть, то, что мы нашли, способно повлиять на кинематограф и на общество в целом.\"\n",
    "\n",
    "Макс задумался и улыбнулся. Это было только начало их путешествия, а мир кино был полон тайн, которые стоило раскрывать."
   ]
  }
 ],
 "metadata": {
  "kernelspec": {
   "display_name": "Python 3",
   "language": "python",
   "name": "python3"
  },
  "language_info": {
   "codemirror_mode": {
    "name": "ipython",
    "version": 3
   },
   "file_extension": ".py",
   "mimetype": "text/x-python",
   "name": "python",
   "nbconvert_exporter": "python",
   "pygments_lexer": "ipython3",
   "version": "3.10.6"
  }
 },
 "nbformat": 4,
 "nbformat_minor": 2
}
